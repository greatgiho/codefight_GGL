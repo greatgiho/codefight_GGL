{
 "cells": [
  {
   "cell_type": "markdown",
   "metadata": {},
   "source": [
    "# 1\n",
    "Example\n",
    "\n",
    "For param1 = 1 and param2 = 2, the output should be\n",
    "add(param1, param2) = 3.\n",
    "\n",
    "Input/Output\n",
    "\n",
    "[execution time limit] 4 seconds (py3)\n",
    "\n",
    "[input] integer param1\n",
    "\n",
    "Guaranteed constraints:\n",
    "-1000 ≤ param1 ≤ 1000.\n",
    "\n",
    "[input] integer param2\n",
    "\n",
    "Guaranteed constraints:\n",
    "-1000 ≤ param2 ≤ 1000.\n",
    "\n",
    "[output] integer\n",
    "\n",
    "The sum of the two inputs.\n",
    "[Python3] Syntax Tips\n",
    "\n",
    "#Prints help message to the console\n",
    "#Returns a string\n",
    "def helloWorld(name):\n",
    "    print(\"This prints to the console when you Run Tests\")\n",
    "    return \"Hello, \" + name\n"
   ]
  },
  {
   "cell_type": "code",
   "execution_count": 1,
   "metadata": {},
   "outputs": [],
   "source": [
    "def add(parm1,pram2):\n",
    "    return param1+param2"
   ]
  },
  {
   "cell_type": "code",
   "execution_count": 2,
   "metadata": {},
   "outputs": [],
   "source": [
    "param1=1\n",
    "param2=2"
   ]
  },
  {
   "cell_type": "code",
   "execution_count": 3,
   "metadata": {},
   "outputs": [
    {
     "data": {
      "text/plain": [
       "3"
      ]
     },
     "execution_count": 3,
     "metadata": {},
     "output_type": "execute_result"
    }
   ],
   "source": [
    "add(param1,param2)"
   ]
  },
  {
   "cell_type": "markdown",
   "metadata": {},
   "source": [
    "# 2\n",
    "Given a year, return the century it is in. The first century spans from the year 1 up to and including the year 100, the second - from the year 101 up to and including the year 200, etc.\n",
    "\n",
    "Example\n",
    "\n",
    "For year = 1905, the output should be\n",
    "centuryFromYear(year) = 20;\n",
    "For year = 1700, the output should be\n",
    "centuryFromYear(year) = 17.\n",
    "Input/Output\n",
    "\n",
    "[execution time limit] 4 seconds (py3)\n",
    "\n",
    "[input] integer year\n",
    "\n",
    "A positive integer, designating the year.\n",
    "\n",
    "Guaranteed constraints:\n",
    "1 ≤ year ≤ 2005.\n",
    "\n",
    "[output] integer\n",
    "\n",
    "The number of the century the year is in.\n",
    "[Python3] Syntax Tips\n",
    "\n",
    "#Prints help message to the console\n",
    "#Returns a string\n",
    "\n",
    "  def helloWorld(name):\n",
    "    print(\"This prints to the console when you Run Tests\")\n",
    "    return \"Hello, \" + name"
   ]
  },
  {
   "cell_type": "code",
   "execution_count": 2,
   "metadata": {},
   "outputs": [],
   "source": [
    "def centuryFromYear(year):\n",
    "    return (year-1)//100"
   ]
  },
  {
   "cell_type": "code",
   "execution_count": 4,
   "metadata": {},
   "outputs": [
    {
     "data": {
      "text/plain": [
       "10"
      ]
     },
     "execution_count": 4,
     "metadata": {},
     "output_type": "execute_result"
    }
   ],
   "source": [
    "centuryFromYear(1002)"
   ]
  },
  {
   "cell_type": "markdown",
   "metadata": {},
   "source": [
    "# 3\n",
    "Given the string, check if it is a palindrome.\n",
    "\n",
    "Example\n",
    "\n",
    "For inputString = \"aabaa\", the output should be\n",
    "checkPalindrome(inputString) = true;\n",
    "For inputString = \"abac\", the output should be\n",
    "checkPalindrome(inputString) = false;\n",
    "For inputString = \"a\", the output should be\n",
    "checkPalindrome(inputString) = true.\n",
    "Input/Output\n",
    "\n",
    "[execution time limit] 4 seconds (py3)\n",
    "\n",
    "[input] string inputString\n",
    "\n",
    "A non-empty string consisting of lowercase characters.\n",
    "\n",
    "Guaranteed constraints:\n",
    "1 ≤ inputString.length ≤ 105.\n",
    "\n",
    "[output] boolean\n",
    "\n",
    "true if inputString is a palindrome, false otherwise.\n",
    "[Python3] Syntax Tips\n",
    "\n",
    "#Prints help message to the console\n",
    "#Returns a string\n",
    "\n",
    "def helloWorld(name):\n",
    "    print(\"This prints to the console when you Run Tests\")\n",
    "    return \"Hello, \" + name\n"
   ]
  },
  {
   "cell_type": "code",
   "execution_count": 6,
   "metadata": {},
   "outputs": [],
   "source": [
    "def checkPalindrome(inputString):\n",
    "    return inputString == inputString[::-1]\n"
   ]
  },
  {
   "cell_type": "code",
   "execution_count": 9,
   "metadata": {},
   "outputs": [
    {
     "data": {
      "text/plain": [
       "False"
      ]
     },
     "execution_count": 9,
     "metadata": {},
     "output_type": "execute_result"
    }
   ],
   "source": [
    "checkPalindrome('aowodk')"
   ]
  },
  {
   "cell_type": "code",
   "execution_count": 10,
   "metadata": {},
   "outputs": [
    {
     "data": {
      "text/plain": [
       "True"
      ]
     },
     "execution_count": 10,
     "metadata": {},
     "output_type": "execute_result"
    }
   ],
   "source": [
    "checkPalindrome('aowoa')"
   ]
  }
 ],
 "metadata": {
  "kernelspec": {
   "display_name": "Python 3",
   "language": "python",
   "name": "python3"
  },
  "language_info": {
   "codemirror_mode": {
    "name": "ipython",
    "version": 3
   },
   "file_extension": ".py",
   "mimetype": "text/x-python",
   "name": "python",
   "nbconvert_exporter": "python",
   "pygments_lexer": "ipython3",
   "version": "3.7.4"
  }
 },
 "nbformat": 4,
 "nbformat_minor": 2
}
